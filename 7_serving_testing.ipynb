{
 "cells": [
  {
   "cell_type": "markdown",
   "metadata": {},
   "source": [
    "### Serving Testing to verify the model has been updated"
   ]
  },
  {
   "cell_type": "code",
   "execution_count": 2,
   "metadata": {},
   "outputs": [
    {
     "name": "stdout",
     "output_type": "stream",
     "text": [
      "{\n",
      "  \"pred\": \"Accetable\",\n",
      "  \"prob\": 0.5148234367370605\n",
      "}"
     ]
    }
   ],
   "source": [
    "!curl -X POST http://127.0.0.1:8080/predictions/my_tc -T sample_text_captum_input.txt"
   ]
  },
  {
   "cell_type": "code",
   "execution_count": 3,
   "metadata": {},
   "outputs": [
    {
     "name": "stdout",
     "output_type": "stream",
     "text": [
      "{\n",
      "  \"pred\": \"Accetable\",\n",
      "  \"prob\": 0.6583814024925232\n",
      "}"
     ]
    }
   ],
   "source": [
    "!curl -X POST http://127.0.0.1:8080/predictions/my_tc -T sample_text_captum_input.txt"
   ]
  },
  {
   "cell_type": "code",
   "execution_count": 2,
   "metadata": {},
   "outputs": [
    {
     "name": "stdout",
     "output_type": "stream",
     "text": [
      "/bin/sh: 1: zip: not found\n"
     ]
    }
   ],
   "source": [
    "!zip -R torchserve-continous-deployment.zip ./*"
   ]
  },
  {
   "cell_type": "code",
   "execution_count": 4,
   "metadata": {},
   "outputs": [
    {
     "name": "stdout",
     "output_type": "stream",
     "text": [
      "Reading package lists... Done\n",
      "Building dependency tree       \n",
      "Reading state information... Done\n",
      "unzip is already the newest version (6.0-21ubuntu1.1).\n",
      "You might want to run 'apt --fix-broken install' to correct these.\n",
      "The following packages have unmet dependencies:\n",
      " libc6-dev : Depends: libc6 (= 2.27-3ubuntu1.5) but 2.27-3ubuntu1.4 is to be installed\n",
      "E: Unmet dependencies. Try 'apt --fix-broken install' with no packages (or specify a solution).\n"
     ]
    }
   ],
   "source": [
    "!apt install unzip"
   ]
  },
  {
   "cell_type": "code",
   "execution_count": 7,
   "metadata": {},
   "outputs": [
    {
     "name": "stdout",
     "output_type": "stream",
     "text": [
      "Reading package lists... Done\n",
      "Building dependency tree       \n",
      "Reading state information... Done\n",
      "unzip is already the newest version (6.0-21ubuntu1.1).\n",
      "You might want to run 'apt --fix-broken install' to correct these.\n",
      "The following packages have unmet dependencies:\n",
      " libc6-dev : Depends: libc6 (= 2.27-3ubuntu1.5) but 2.27-3ubuntu1.4 is to be installed\n",
      "E: Unmet dependencies. Try 'apt --fix-broken install' with no packages (or specify a solution).\n"
     ]
    }
   ],
   "source": [
    "!apt --fix-broken install unzip"
   ]
  },
  {
   "cell_type": "code",
   "execution_count": 3,
   "metadata": {},
   "outputs": [
    {
     "name": "stdout",
     "output_type": "stream",
     "text": [
      "Reading package lists... Done\n",
      "Building dependency tree       \n",
      "Reading state information... Done\n",
      "You might want to run 'apt --fix-broken install' to correct these.\n",
      "The following packages have unmet dependencies:\n",
      " libc6-dev : Depends: libc6 (= 2.27-3ubuntu1.5) but 2.27-3ubuntu1.4 is to be installed\n",
      "E: Unmet dependencies. Try 'apt --fix-broken install' with no packages (or specify a solution).\n"
     ]
    }
   ],
   "source": [
    "!apt install zip"
   ]
  },
  {
   "cell_type": "code",
   "execution_count": null,
   "metadata": {},
   "outputs": [],
   "source": []
  }
 ],
 "metadata": {
  "instance_type": "ml.t3.medium",
  "kernelspec": {
   "display_name": "Python 3 (PyTorch 1.6 Python 3.6 CPU Optimized)",
   "language": "python",
   "name": "python3__SAGEMAKER_INTERNAL__arn:aws:sagemaker:ap-southeast-1:492261229750:image/pytorch-1.6-cpu-py36-ubuntu16.04-v1"
  },
  "language_info": {
   "codemirror_mode": {
    "name": "ipython",
    "version": 3
   },
   "file_extension": ".py",
   "mimetype": "text/x-python",
   "name": "python",
   "nbconvert_exporter": "python",
   "pygments_lexer": "ipython3",
   "version": "3.6.13"
  }
 },
 "nbformat": 4,
 "nbformat_minor": 4
}
