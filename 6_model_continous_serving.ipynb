{
 "cells": [
  {
   "cell_type": "markdown",
   "metadata": {},
   "source": [
    "### Detect the changes and redeploy the model"
   ]
  },
  {
   "cell_type": "code",
   "execution_count": 1,
   "metadata": {},
   "outputs": [],
   "source": [
    "change_log_path_path = \"./model_update.log\""
   ]
  },
  {
   "cell_type": "code",
   "execution_count": 2,
   "metadata": {},
   "outputs": [],
   "source": [
    "import time"
   ]
  },
  {
   "cell_type": "code",
   "execution_count": 3,
   "metadata": {},
   "outputs": [],
   "source": [
    "import subprocess"
   ]
  },
  {
   "cell_type": "code",
   "execution_count": 4,
   "metadata": {},
   "outputs": [],
   "source": [
    "# !torchserve --start --model-store model_store --models my_tc=BERTSeqClassification.mar --ncs"
   ]
  },
  {
   "cell_type": "code",
   "execution_count": 5,
   "metadata": {},
   "outputs": [],
   "source": [
    "# !torchserve --stop --model-store model_store --models my_tc=BERTSeqClassification.mar --ncs"
   ]
  },
  {
   "cell_type": "code",
   "execution_count": 6,
   "metadata": {},
   "outputs": [],
   "source": [
    "# start_log = subprocess.run(['torchserve','--start','--model-store','model_store','--models',\"my_tc=BERTSeqClassification.mar\",'--ncs'],check=True)"
   ]
  },
  {
   "cell_type": "code",
   "execution_count": 7,
   "metadata": {},
   "outputs": [
    {
     "name": "stdout",
     "output_type": "stream",
     "text": [
      "INFO: Model Update! Redeployment!\n",
      "INFO:CompletedProcess(args=['torchserve', '--stop', '--model-store', 'model_store', '--models', 'my_tc=BERTSeqClassification.mar', '--ncs'], returncode=0)\n",
      "INFO:Stop the Model Serving.\n",
      "INFO:CompletedProcess(args=['torchserve', '--start', '--model-store', 'model_store', '--models', 'my_tc=BERTSeqClassification.mar', '--ncs'], returncode=0)\n",
      "INFO:Re-Start the Model Serving.\n",
      "INFO: Model Update! Redeployment!\n",
      "INFO:CompletedProcess(args=['torchserve', '--stop', '--model-store', 'model_store', '--models', 'my_tc=BERTSeqClassification.mar', '--ncs'], returncode=0)\n",
      "INFO:Stop the Model Serving.\n",
      "INFO:CompletedProcess(args=['torchserve', '--start', '--model-store', 'model_store', '--models', 'my_tc=BERTSeqClassification.mar', '--ncs'], returncode=0)\n",
      "INFO:Re-Start the Model Serving.\n"
     ]
    },
    {
     "ename": "KeyboardInterrupt",
     "evalue": "",
     "output_type": "error",
     "traceback": [
      "\u001b[0;31m---------------------------------------------------------------------------\u001b[0m",
      "\u001b[0;31mKeyboardInterrupt\u001b[0m                         Traceback (most recent call last)",
      "\u001b[0;32m<ipython-input-7-0c2bf2254f0b>\u001b[0m in \u001b[0;36m<module>\u001b[0;34m\u001b[0m\n\u001b[1;32m      2\u001b[0m \u001b[0;32mwhile\u001b[0m \u001b[0;32mTrue\u001b[0m\u001b[0;34m:\u001b[0m\u001b[0;34m\u001b[0m\u001b[0;34m\u001b[0m\u001b[0m\n\u001b[1;32m      3\u001b[0m     \u001b[0mfile_line\u001b[0m \u001b[0;34m=\u001b[0m \u001b[0;36m0\u001b[0m\u001b[0;34m\u001b[0m\u001b[0;34m\u001b[0m\u001b[0m\n\u001b[0;32m----> 4\u001b[0;31m     \u001b[0mtime\u001b[0m\u001b[0;34m.\u001b[0m\u001b[0msleep\u001b[0m\u001b[0;34m(\u001b[0m\u001b[0;36m1\u001b[0m\u001b[0;34m)\u001b[0m\u001b[0;34m\u001b[0m\u001b[0;34m\u001b[0m\u001b[0m\n\u001b[0m\u001b[1;32m      5\u001b[0m \u001b[0;34m\u001b[0m\u001b[0m\n\u001b[1;32m      6\u001b[0m     \u001b[0;32mwith\u001b[0m \u001b[0mopen\u001b[0m\u001b[0;34m(\u001b[0m\u001b[0mchange_log_path_path\u001b[0m\u001b[0;34m,\u001b[0m\u001b[0;34m'r'\u001b[0m\u001b[0;34m)\u001b[0m \u001b[0;32mas\u001b[0m \u001b[0mf\u001b[0m\u001b[0;34m:\u001b[0m\u001b[0;34m\u001b[0m\u001b[0;34m\u001b[0m\u001b[0m\n",
      "\u001b[0;31mKeyboardInterrupt\u001b[0m: "
     ]
    }
   ],
   "source": [
    "curr_num_row = -1\n",
    "while True:\n",
    "    file_line = 0\n",
    "    time.sleep(1)\n",
    "    \n",
    "    with open(change_log_path_path,'r') as f:\n",
    "        lines = f.readlines()\n",
    "    new_num_row = len(lines)\n",
    "    if curr_num_row!=new_num_row:\n",
    "        print(\"INFO: Model Update! Redeployment!\")\n",
    "        curr_num_row = new_num_row\n",
    "        \n",
    "        stop_log = subprocess.run(['torchserve','--stop','--model-store','model_store','--models',\"my_tc=BERTSeqClassification.mar\",'--ncs'],check=True)\n",
    "        print(f\"INFO:{stop_log}\")\n",
    "        print(\"INFO:Stop the Model Serving.\")\n",
    "        start_log = subprocess.run(['torchserve','--start','--model-store','model_store','--models',\"my_tc=BERTSeqClassification.mar\",'--ncs'],check=True)\n",
    "        print(f\"INFO:{start_log}\")\n",
    "        print(\"INFO:Re-Start the Model Serving.\")\n",
    "        "
   ]
  },
  {
   "cell_type": "code",
   "execution_count": null,
   "metadata": {},
   "outputs": [],
   "source": [
    "!curl -X POST http://127.0.0.1:8080/predictions/my_tc -T sample_text_captum_input.txt"
   ]
  },
  {
   "cell_type": "code",
   "execution_count": null,
   "metadata": {},
   "outputs": [],
   "source": []
  }
 ],
 "metadata": {
  "kernelspec": {
   "display_name": "Python 3 (PyTorch 1.8 Python 3.6 CPU Optimized)",
   "language": "python",
   "name": "python3__SAGEMAKER_INTERNAL__arn:aws:sagemaker:ap-southeast-1:492261229750:image/1.8.1-cpu-py36"
  },
  "language_info": {
   "codemirror_mode": {
    "name": "ipython",
    "version": 3
   },
   "file_extension": ".py",
   "mimetype": "text/x-python",
   "name": "python",
   "nbconvert_exporter": "python",
   "pygments_lexer": "ipython3",
   "version": "3.6.13"
  }
 },
 "nbformat": 4,
 "nbformat_minor": 4
}
